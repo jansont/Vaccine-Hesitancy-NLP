{
 "cells": [
  {
   "cell_type": "code",
   "execution_count": 1,
   "metadata": {},
   "outputs": [
    {
     "output_type": "stream",
     "name": "stderr",
     "text": [
      "/Users/theojanson/Library/Python/3.8/lib/python/site-packages/ipykernel/pylab/config.py:70: DeprecationWarning: InlineBackend._figure_formats_changed is deprecated in traitlets 4.1: use @observe and @unobserve instead.\n  def _figure_formats_changed(self, name, old, new):\n"
     ]
    }
   ],
   "source": [
    "import pandas as pd \n",
    "from filter import Filter\n",
    "from preprocessing import Preprocessor\n",
    "from vectorizer import Vectorizer\n",
    "import data\n",
    "from topic_modelling import LDA\n",
    "import utilities\n",
    "import pyLDAvis\n",
    "import pyLDAvis.sklearn\n",
    "from sklearn.model_selection import GridSearchCV\n",
    "from pyLDAvis import gensim_models\n",
    "#make sure you're using Python 3.8+ \n",
    "\n",
    "# df = utilities.load_processed(test=True)\n",
    "# print(df['processed_tweet'])\n",
    "\n",
    "# print(type(df['processed_tweet'].copy()))\n",
    "# v = Vectorizer(df['processed_tweet'].copy(), vectorizer_type='cv', max_df=0.95, min_df=10)"
   ]
  },
  {
   "cell_type": "code",
   "execution_count": 2,
   "metadata": {},
   "outputs": [
    {
     "output_type": "stream",
     "name": "stderr",
     "text": [
      "/Users/theojanson/Library/Python/3.8/lib/python/site-packages/IPython/core/interactiveshell.py:3357: DtypeWarning: Columns (0) have mixed types.Specify dtype option on import or set low_memory=False.\n",
      "  if (await self.run_code(code, result,  async_=asy)):\n",
      "12.001467122288185\n",
      "(69276, 22)\n"
     ]
    }
   ],
   "source": [
    "df = utilities.load_processed()\n",
    "v = Vectorizer(df['processed_tweet'], vectorizer_type='cv', min_df = 0.05, max_df=0.95, max_features=None)\n",
    "print(v.sparsity())\n",
    "print(v.features.shape)"
   ]
  },
  {
   "cell_type": "code",
   "execution_count": 3,
   "metadata": {},
   "outputs": [],
   "source": [
    "mins = [0, 0.05, 0.10, 0.15, 0.20 ]\n",
    "max = [0.8, 0.85, 0.90, 0.95, 1.0]\n",
    "\n",
    "v = Vectorizer(df['processed_tweet'], vectorizer_type='hash', max_features=None, n_features=1048576)\n",
    "spars = v.sparsity()\n",
    "dim = v.features.shape[1]\n",
    "\n",
    "print(spars)\n",
    "print(dim)\n",
    "\n",
    "\n",
    "\n",
    "\n",
    "\n",
    "\n",
    "# v = Vectorizer(df['processed_tweet'], vectorizer_type='cv', max_df=0.95, max_features=None, n_features=1048576)\n",
    "# print(v.sparsity())\n",
    "# print(v.features.shape)"
   ]
  },
  {
   "cell_type": "code",
   "execution_count": null,
   "metadata": {},
   "outputs": [],
   "source": [
    "spars"
   ]
  },
  {
   "cell_type": "code",
   "execution_count": null,
   "metadata": {},
   "outputs": [],
   "source": []
  }
 ],
 "metadata": {
  "kernelspec": {
   "name": "python382jvsc74a57bd031f2aee4e71d21fbe5cf8b01ff0e069b9275f58929596ceb00d14d90e3e16cd6",
   "display_name": "Python 3.8.2 64-bit"
  },
  "language_info": {
   "codemirror_mode": {
    "name": "ipython",
    "version": 3
   },
   "file_extension": ".py",
   "mimetype": "text/x-python",
   "name": "python",
   "nbconvert_exporter": "python",
   "pygments_lexer": "ipython3",
   "version": "3.8.2"
  },
  "metadata": {
   "interpreter": {
    "hash": "31f2aee4e71d21fbe5cf8b01ff0e069b9275f58929596ceb00d14d90e3e16cd6"
   }
  }
 },
 "nbformat": 4,
 "nbformat_minor": 4
}